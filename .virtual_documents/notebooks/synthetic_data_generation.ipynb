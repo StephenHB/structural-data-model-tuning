





import numpy as np
import pandas as pd
from sklearn.datasets import make_classification, make_regression


# Example schema: 10 features (8 numeric, 2 categorical), 1 target (binary)
n_samples = 1000
n_numeric = 8
n_categorical = 2
n_features = n_numeric + n_categorical

# Generate numeric features
X_numeric = np.random.randn(n_samples, n_numeric)

# Generate categorical features
X_categorical = np.random.choice(['A', 'B', 'C'], size=(n_samples, n_categorical))

# Combine features
X = np.concatenate([X_numeric, X_categorical.astype(str)], axis=1)

# Create DataFrame
columns = [f'num_{i}' for i in range(n_numeric)] + [f'cat_{i}' for i in range(n_categorical)]
df = pd.DataFrame(X, columns=columns)

# Generate binary target
y = np.random.randint(0, 2, size=n_samples)
df['target'] = y
df.head()





# Multiclass target example
y_multi = np.random.randint(0, 4, size=n_samples)
df_multi = df.copy()
df_multi['target'] = y_multi
df_multi.head()


# Regression target example
y_reg = np.random.randn(n_samples)
df_reg = df.copy()
df_reg['target'] = y_reg
df_reg.head()





df.to_csv('../models/synthetic_binary.csv', index=False)
df_multi.to_csv('../models/synthetic_multiclass.csv', index=False)
df_reg.to_csv('../models/synthetic_regression.csv', index=False)



